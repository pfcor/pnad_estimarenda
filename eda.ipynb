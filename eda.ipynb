{
 "cells": [
  {
   "cell_type": "code",
   "execution_count": 24,
   "metadata": {
    "collapsed": true
   },
   "outputs": [],
   "source": [
    "import pandas as pd\n",
    "import numpy as np\n",
    "import matplotlib.pyplot as plt\n",
    "\n",
    "%matplotlib inline"
   ]
  },
  {
   "cell_type": "code",
   "execution_count": 9,
   "metadata": {},
   "outputs": [],
   "source": [
    "base = pd.read_csv('./dados/base_full.csv')"
   ]
  },
  {
   "cell_type": "code",
   "execution_count": 10,
   "metadata": {},
   "outputs": [],
   "source": [
    "base = base[base['idade'] >= 10]"
   ]
  },
  {
   "cell_type": "code",
   "execution_count": 13,
   "metadata": {},
   "outputs": [
    {
     "data": {
      "text/html": [
       "<div>\n",
       "<style>\n",
       "    .dataframe thead tr:only-child th {\n",
       "        text-align: right;\n",
       "    }\n",
       "\n",
       "    .dataframe thead th {\n",
       "        text-align: left;\n",
       "    }\n",
       "\n",
       "    .dataframe tbody tr th {\n",
       "        vertical-align: top;\n",
       "    }\n",
       "</style>\n",
       "<table border=\"1\" class=\"dataframe\">\n",
       "  <thead>\n",
       "    <tr style=\"text-align: right;\">\n",
       "      <th></th>\n",
       "      <th>uf</th>\n",
       "      <th>sexo</th>\n",
       "      <th>idade</th>\n",
       "      <th>condicao_domiciliar</th>\n",
       "      <th>raca</th>\n",
       "      <th>estado_civil</th>\n",
       "      <th>alfabetizado</th>\n",
       "      <th>estuda</th>\n",
       "      <th>internet_via_celular</th>\n",
       "      <th>trabalha</th>\n",
       "      <th>...</th>\n",
       "      <th>atividade</th>\n",
       "      <th>ocupacao</th>\n",
       "      <th>tipo_familia</th>\n",
       "      <th>situacao_censitaria</th>\n",
       "      <th>anos_de_estudo</th>\n",
       "      <th>componentes_domicilio</th>\n",
       "      <th>rendimento_mensal</th>\n",
       "      <th>nivel_de_instrucao</th>\n",
       "      <th>atividade_agricola</th>\n",
       "      <th>inss</th>\n",
       "    </tr>\n",
       "  </thead>\n",
       "  <tbody>\n",
       "    <tr>\n",
       "      <th>0</th>\n",
       "      <td>Rondonia</td>\n",
       "      <td>1</td>\n",
       "      <td>23</td>\n",
       "      <td>Pessoa de referencia</td>\n",
       "      <td>Parda</td>\n",
       "      <td>Solteiro</td>\n",
       "      <td>1</td>\n",
       "      <td>0</td>\n",
       "      <td>1.0</td>\n",
       "      <td>1.0</td>\n",
       "      <td>...</td>\n",
       "      <td>Outros servicos coletivos, sociais e pessoais</td>\n",
       "      <td>Trabalhadores dos servicos</td>\n",
       "      <td>Outros tipos de família</td>\n",
       "      <td>Urbana</td>\n",
       "      <td>11 a 14 anos</td>\n",
       "      <td>1.0</td>\n",
       "      <td>Mais de 1 ate 2 salarios minimos</td>\n",
       "      <td>Medio completo ou equivalente</td>\n",
       "      <td>0.0</td>\n",
       "      <td>0</td>\n",
       "    </tr>\n",
       "    <tr>\n",
       "      <th>1</th>\n",
       "      <td>Rondonia</td>\n",
       "      <td>0</td>\n",
       "      <td>23</td>\n",
       "      <td>Pessoa de referencia</td>\n",
       "      <td>Branca</td>\n",
       "      <td>Divorciado</td>\n",
       "      <td>1</td>\n",
       "      <td>0</td>\n",
       "      <td>1.0</td>\n",
       "      <td>1.0</td>\n",
       "      <td>...</td>\n",
       "      <td>Outras atividades</td>\n",
       "      <td>Trabalhadores de servicos administrativos</td>\n",
       "      <td>Outros tipos de família</td>\n",
       "      <td>Urbana</td>\n",
       "      <td>11 a 14 anos</td>\n",
       "      <td>1.0</td>\n",
       "      <td>Mais de 1 ate 2 salarios minimos</td>\n",
       "      <td>Medio completo ou equivalente</td>\n",
       "      <td>0.0</td>\n",
       "      <td>0</td>\n",
       "    </tr>\n",
       "    <tr>\n",
       "      <th>2</th>\n",
       "      <td>Rondonia</td>\n",
       "      <td>0</td>\n",
       "      <td>35</td>\n",
       "      <td>Pessoa de referencia</td>\n",
       "      <td>Parda</td>\n",
       "      <td>NaN</td>\n",
       "      <td>1</td>\n",
       "      <td>1</td>\n",
       "      <td>1.0</td>\n",
       "      <td>1.0</td>\n",
       "      <td>...</td>\n",
       "      <td>Administração publica</td>\n",
       "      <td>Profissionais das ciencias e das artes</td>\n",
       "      <td>Casal com todos os filhos menores de 14 anos</td>\n",
       "      <td>Urbana</td>\n",
       "      <td>11 a 14 anos</td>\n",
       "      <td>6.0</td>\n",
       "      <td>Mais de 1 ate 2 salarios minimos</td>\n",
       "      <td>Superior incompleto ou equivalente</td>\n",
       "      <td>0.0</td>\n",
       "      <td>0</td>\n",
       "    </tr>\n",
       "    <tr>\n",
       "      <th>3</th>\n",
       "      <td>Rondonia</td>\n",
       "      <td>1</td>\n",
       "      <td>34</td>\n",
       "      <td>Conjuge</td>\n",
       "      <td>Parda</td>\n",
       "      <td>NaN</td>\n",
       "      <td>1</td>\n",
       "      <td>0</td>\n",
       "      <td>1.0</td>\n",
       "      <td>1.0</td>\n",
       "      <td>...</td>\n",
       "      <td>Comercio e reparacao</td>\n",
       "      <td>Dirigentes em geral</td>\n",
       "      <td>Casal com todos os filhos menores de 14 anos</td>\n",
       "      <td>Urbana</td>\n",
       "      <td>11 a 14 anos</td>\n",
       "      <td>6.0</td>\n",
       "      <td>Mais de 1 ate 2 salarios minimos</td>\n",
       "      <td>Superior completo</td>\n",
       "      <td>0.0</td>\n",
       "      <td>0</td>\n",
       "    </tr>\n",
       "    <tr>\n",
       "      <th>4</th>\n",
       "      <td>Rondonia</td>\n",
       "      <td>0</td>\n",
       "      <td>11</td>\n",
       "      <td>Filho</td>\n",
       "      <td>Parda</td>\n",
       "      <td>Solteiro</td>\n",
       "      <td>1</td>\n",
       "      <td>1</td>\n",
       "      <td>0.0</td>\n",
       "      <td>0.0</td>\n",
       "      <td>...</td>\n",
       "      <td>NaN</td>\n",
       "      <td>NaN</td>\n",
       "      <td>Casal com todos os filhos menores de 14 anos</td>\n",
       "      <td>Urbana</td>\n",
       "      <td>1 a 3 anos</td>\n",
       "      <td>6.0</td>\n",
       "      <td>Mais de 1 ate 2 salarios minimos</td>\n",
       "      <td>Fundamental incompleto ou equivalente</td>\n",
       "      <td>NaN</td>\n",
       "      <td>0</td>\n",
       "    </tr>\n",
       "  </tbody>\n",
       "</table>\n",
       "<p>5 rows × 26 columns</p>\n",
       "</div>"
      ],
      "text/plain": [
       "         uf  sexo  idade   condicao_domiciliar    raca estado_civil  \\\n",
       "0  Rondonia     1     23  Pessoa de referencia   Parda     Solteiro   \n",
       "1  Rondonia     0     23  Pessoa de referencia  Branca   Divorciado   \n",
       "2  Rondonia     0     35  Pessoa de referencia   Parda          NaN   \n",
       "3  Rondonia     1     34               Conjuge   Parda          NaN   \n",
       "4  Rondonia     0     11                 Filho   Parda     Solteiro   \n",
       "\n",
       "   alfabetizado  estuda  internet_via_celular  trabalha ...   \\\n",
       "0             1       0                   1.0       1.0 ...    \n",
       "1             1       0                   1.0       1.0 ...    \n",
       "2             1       1                   1.0       1.0 ...    \n",
       "3             1       0                   1.0       1.0 ...    \n",
       "4             1       1                   0.0       0.0 ...    \n",
       "\n",
       "                                       atividade  \\\n",
       "0  Outros servicos coletivos, sociais e pessoais   \n",
       "1                              Outras atividades   \n",
       "2                          Administração publica   \n",
       "3                           Comercio e reparacao   \n",
       "4                                            NaN   \n",
       "\n",
       "                                    ocupacao  \\\n",
       "0                 Trabalhadores dos servicos   \n",
       "1  Trabalhadores de servicos administrativos   \n",
       "2     Profissionais das ciencias e das artes   \n",
       "3                        Dirigentes em geral   \n",
       "4                                        NaN   \n",
       "\n",
       "                                   tipo_familia  situacao_censitaria  \\\n",
       "0                       Outros tipos de família               Urbana   \n",
       "1                       Outros tipos de família               Urbana   \n",
       "2  Casal com todos os filhos menores de 14 anos               Urbana   \n",
       "3  Casal com todos os filhos menores de 14 anos               Urbana   \n",
       "4  Casal com todos os filhos menores de 14 anos               Urbana   \n",
       "\n",
       "   anos_de_estudo componentes_domicilio                 rendimento_mensal  \\\n",
       "0    11 a 14 anos                   1.0  Mais de 1 ate 2 salarios minimos   \n",
       "1    11 a 14 anos                   1.0  Mais de 1 ate 2 salarios minimos   \n",
       "2    11 a 14 anos                   6.0  Mais de 1 ate 2 salarios minimos   \n",
       "3    11 a 14 anos                   6.0  Mais de 1 ate 2 salarios minimos   \n",
       "4      1 a 3 anos                   6.0  Mais de 1 ate 2 salarios minimos   \n",
       "\n",
       "                      nivel_de_instrucao atividade_agricola inss  \n",
       "0          Medio completo ou equivalente                0.0    0  \n",
       "1          Medio completo ou equivalente                0.0    0  \n",
       "2     Superior incompleto ou equivalente                0.0    0  \n",
       "3                      Superior completo                0.0    0  \n",
       "4  Fundamental incompleto ou equivalente                NaN    0  \n",
       "\n",
       "[5 rows x 26 columns]"
      ]
     },
     "execution_count": 13,
     "metadata": {},
     "output_type": "execute_result"
    }
   ],
   "source": [
    "base.head()"
   ]
  },
  {
   "cell_type": "code",
   "execution_count": 15,
   "metadata": {},
   "outputs": [
    {
     "data": {
      "text/plain": [
       "Casal sem filhos                                            29759\n",
       "Casal com todos os filhos de 14 anos ou mais                29719\n",
       "Casal com todos os filhos menores de 14 anos                22127\n",
       "Casal com filhos menores de 14 anos e de 14 anos ou mais     9903\n",
       "Mae com todos os filhos de 14 anos ou mais                    748\n",
       "Outros tipos de família                                       627\n",
       "Mae com todos os filhos menores de 14 anos                     71\n",
       "Mae com filhos menores de 14 anos e de 14 anos ou mais         26\n",
       "Name: tipo_familia, dtype: int64"
      ]
     },
     "execution_count": 15,
     "metadata": {},
     "output_type": "execute_result"
    }
   ],
   "source": [
    "base[base['estado_civil'].isnull()][['condicao_domiciliar', 'idade', 'tipo_familia']]['tipo_familia'].value_counts()"
   ]
  },
  {
   "cell_type": "code",
   "execution_count": 21,
   "metadata": {},
   "outputs": [
    {
     "data": {
      "text/html": [
       "<div>\n",
       "<style>\n",
       "    .dataframe thead tr:only-child th {\n",
       "        text-align: right;\n",
       "    }\n",
       "\n",
       "    .dataframe thead th {\n",
       "        text-align: left;\n",
       "    }\n",
       "\n",
       "    .dataframe tbody tr th {\n",
       "        vertical-align: top;\n",
       "    }\n",
       "</style>\n",
       "<table border=\"1\" class=\"dataframe\">\n",
       "  <thead>\n",
       "    <tr style=\"text-align: right;\">\n",
       "      <th>estado_civil</th>\n",
       "      <th>Casado</th>\n",
       "      <th>Desquitado ou separado judicialmente</th>\n",
       "      <th>Divorciado</th>\n",
       "      <th>Solteiro</th>\n",
       "      <th>Viuvo</th>\n",
       "      <th>All</th>\n",
       "    </tr>\n",
       "    <tr>\n",
       "      <th>internet_via_celular</th>\n",
       "      <th></th>\n",
       "      <th></th>\n",
       "      <th></th>\n",
       "      <th></th>\n",
       "      <th></th>\n",
       "      <th></th>\n",
       "    </tr>\n",
       "  </thead>\n",
       "  <tbody>\n",
       "    <tr>\n",
       "      <th>0.0</th>\n",
       "      <td>0.591643</td>\n",
       "      <td>0.591442</td>\n",
       "      <td>0.495942</td>\n",
       "      <td>0.400826</td>\n",
       "      <td>0.870912</td>\n",
       "      <td>0.457409</td>\n",
       "    </tr>\n",
       "    <tr>\n",
       "      <th>1.0</th>\n",
       "      <td>0.408357</td>\n",
       "      <td>0.408558</td>\n",
       "      <td>0.504058</td>\n",
       "      <td>0.599174</td>\n",
       "      <td>0.129088</td>\n",
       "      <td>0.542591</td>\n",
       "    </tr>\n",
       "    <tr>\n",
       "      <th>All</th>\n",
       "      <td>1.000000</td>\n",
       "      <td>1.000000</td>\n",
       "      <td>1.000000</td>\n",
       "      <td>1.000000</td>\n",
       "      <td>1.000000</td>\n",
       "      <td>1.000000</td>\n",
       "    </tr>\n",
       "  </tbody>\n",
       "</table>\n",
       "</div>"
      ],
      "text/plain": [
       "estado_civil            Casado  Desquitado ou separado judicialmente  \\\n",
       "internet_via_celular                                                   \n",
       "0.0                   0.591643                              0.591442   \n",
       "1.0                   0.408357                              0.408558   \n",
       "All                   1.000000                              1.000000   \n",
       "\n",
       "estado_civil          Divorciado  Solteiro     Viuvo       All  \n",
       "internet_via_celular                                            \n",
       "0.0                     0.495942  0.400826  0.870912  0.457409  \n",
       "1.0                     0.504058  0.599174  0.129088  0.542591  \n",
       "All                     1.000000  1.000000  1.000000  1.000000  "
      ]
     },
     "execution_count": 21,
     "metadata": {},
     "output_type": "execute_result"
    }
   ],
   "source": [
    "ct = pd.crosstab(columns=base['internet_via_celular'], index=base['estado_civil'], margins=True).T\n",
    "ct/ct.loc['All']"
   ]
  },
  {
   "cell_type": "code",
   "execution_count": 20,
   "metadata": {},
   "outputs": [
    {
     "data": {
      "text/html": [
       "<div>\n",
       "<style>\n",
       "    .dataframe thead tr:only-child th {\n",
       "        text-align: right;\n",
       "    }\n",
       "\n",
       "    .dataframe thead th {\n",
       "        text-align: left;\n",
       "    }\n",
       "\n",
       "    .dataframe tbody tr th {\n",
       "        vertical-align: top;\n",
       "    }\n",
       "</style>\n",
       "<table border=\"1\" class=\"dataframe\">\n",
       "  <thead>\n",
       "    <tr style=\"text-align: right;\">\n",
       "      <th>tipo_familia</th>\n",
       "      <th>Casal com filhos menores de 14 anos e de 14 anos ou mais</th>\n",
       "      <th>Casal com todos os filhos de 14 anos ou mais</th>\n",
       "      <th>Casal com todos os filhos menores de 14 anos</th>\n",
       "      <th>Casal sem filhos</th>\n",
       "      <th>Mae com filhos menores de 14 anos e de 14 anos ou mais</th>\n",
       "      <th>Mae com todos os filhos de 14 anos ou mais</th>\n",
       "      <th>Mae com todos os filhos menores de 14 anos</th>\n",
       "      <th>Outros tipos de família</th>\n",
       "      <th>All</th>\n",
       "    </tr>\n",
       "    <tr>\n",
       "      <th>internet_via_celular</th>\n",
       "      <th></th>\n",
       "      <th></th>\n",
       "      <th></th>\n",
       "      <th></th>\n",
       "      <th></th>\n",
       "      <th></th>\n",
       "      <th></th>\n",
       "      <th></th>\n",
       "      <th></th>\n",
       "    </tr>\n",
       "  </thead>\n",
       "  <tbody>\n",
       "    <tr>\n",
       "      <th>0.0</th>\n",
       "      <td>0.46804</td>\n",
       "      <td>0.622767</td>\n",
       "      <td>0.30578</td>\n",
       "      <td>0.657751</td>\n",
       "      <td>0.461538</td>\n",
       "      <td>0.359626</td>\n",
       "      <td>0.450704</td>\n",
       "      <td>0.60925</td>\n",
       "      <td>0.539664</td>\n",
       "    </tr>\n",
       "    <tr>\n",
       "      <th>1.0</th>\n",
       "      <td>0.53196</td>\n",
       "      <td>0.377233</td>\n",
       "      <td>0.69422</td>\n",
       "      <td>0.342249</td>\n",
       "      <td>0.538462</td>\n",
       "      <td>0.640374</td>\n",
       "      <td>0.549296</td>\n",
       "      <td>0.39075</td>\n",
       "      <td>0.460336</td>\n",
       "    </tr>\n",
       "    <tr>\n",
       "      <th>All</th>\n",
       "      <td>1.00000</td>\n",
       "      <td>1.000000</td>\n",
       "      <td>1.00000</td>\n",
       "      <td>1.000000</td>\n",
       "      <td>1.000000</td>\n",
       "      <td>1.000000</td>\n",
       "      <td>1.000000</td>\n",
       "      <td>1.00000</td>\n",
       "      <td>1.000000</td>\n",
       "    </tr>\n",
       "  </tbody>\n",
       "</table>\n",
       "</div>"
      ],
      "text/plain": [
       "tipo_familia          Casal com filhos menores de 14 anos e de 14 anos ou mais  \\\n",
       "internet_via_celular                                                             \n",
       "0.0                                                             0.46804          \n",
       "1.0                                                             0.53196          \n",
       "All                                                             1.00000          \n",
       "\n",
       "tipo_familia          Casal com todos os filhos de 14 anos ou mais  \\\n",
       "internet_via_celular                                                 \n",
       "0.0                                                       0.622767   \n",
       "1.0                                                       0.377233   \n",
       "All                                                       1.000000   \n",
       "\n",
       "tipo_familia          Casal com todos os filhos menores de 14 anos  \\\n",
       "internet_via_celular                                                 \n",
       "0.0                                                        0.30578   \n",
       "1.0                                                        0.69422   \n",
       "All                                                        1.00000   \n",
       "\n",
       "tipo_familia          Casal sem filhos  \\\n",
       "internet_via_celular                     \n",
       "0.0                           0.657751   \n",
       "1.0                           0.342249   \n",
       "All                           1.000000   \n",
       "\n",
       "tipo_familia          Mae com filhos menores de 14 anos e de 14 anos ou mais  \\\n",
       "internet_via_celular                                                           \n",
       "0.0                                                            0.461538        \n",
       "1.0                                                            0.538462        \n",
       "All                                                            1.000000        \n",
       "\n",
       "tipo_familia          Mae com todos os filhos de 14 anos ou mais  \\\n",
       "internet_via_celular                                               \n",
       "0.0                                                     0.359626   \n",
       "1.0                                                     0.640374   \n",
       "All                                                     1.000000   \n",
       "\n",
       "tipo_familia          Mae com todos os filhos menores de 14 anos  \\\n",
       "internet_via_celular                                               \n",
       "0.0                                                     0.450704   \n",
       "1.0                                                     0.549296   \n",
       "All                                                     1.000000   \n",
       "\n",
       "tipo_familia          Outros tipos de família       All  \n",
       "internet_via_celular                                     \n",
       "0.0                                   0.60925  0.539664  \n",
       "1.0                                   0.39075  0.460336  \n",
       "All                                   1.00000  1.000000  "
      ]
     },
     "execution_count": 20,
     "metadata": {},
     "output_type": "execute_result"
    }
   ],
   "source": [
    "ct = pd.crosstab(columns=base[base['estado_civil'].isnull()]['internet_via_celular'], index=base[base['estado_civil'].isnull()]['tipo_familia'], margins=True).T\n",
    "ct/ct.loc['All']"
   ]
  },
  {
   "cell_type": "code",
   "execution_count": 25,
   "metadata": {},
   "outputs": [
    {
     "data": {
      "text/plain": [
       "<matplotlib.axes._subplots.AxesSubplot at 0x15b88ca4630>"
      ]
     },
     "execution_count": 25,
     "metadata": {},
     "output_type": "execute_result"
    },
    {
     "data": {
      "image/png": "[encoded data removed]",
      "text/plain": [
       "<matplotlib.figure.Figure at 0x15b84e08940>"
      ]
     },
     "metadata": {},
     "output_type": "display_data"
    }
   ],
   "source": [
    "base['idade'].plot.box()"
   ]
  },
  {
   "cell_type": "code",
   "execution_count": 27,
   "metadata": {},
   "outputs": [
    {
     "name": "stderr",
     "output_type": "stream",
     "text": [
      "C:\\Users\\pedro.correia\\Anaconda3\\lib\\site-packages\\numpy\\core\\fromnumeric.py:57: FutureWarning: reshape is deprecated and will raise in a subsequent release. Please use .values.reshape(...) instead\n",
      "  return getattr(obj, method)(*args, **kwds)\n"
     ]
    },
    {
     "data": {
      "text/plain": [
       "<matplotlib.axes._subplots.AxesSubplot at 0x15b87e7ee80>"
      ]
     },
     "execution_count": 27,
     "metadata": {},
     "output_type": "execute_result"
    },
    {
     "data": {
      "image/png": "[encoded data removed]",
      "text/plain": [
       "<matplotlib.figure.Figure at 0x15b88062f60>"
      ]
     },
     "metadata": {},
     "output_type": "display_data"
    }
   ],
   "source": [
    "base.boxplot(column=['idade'], by=['internet_via_celular'])"
   ]
  },
  {
   "cell_type": "code",
   "execution_count": 28,
   "metadata": {},
   "outputs": [
    {
     "data": {
      "text/plain": [
       "Index(['uf', 'sexo', 'idade', 'condicao_domiciliar', 'raca', 'estado_civil',\n",
       "       'alfabetizado', 'estuda', 'internet_via_celular', 'trabalha',\n",
       "       'idade_inicio_trabalho', 'responsavel_afazeres_domesticos',\n",
       "       'horas_semanais_trabalho', 'ativo_economicamente', 'ocupado',\n",
       "       'posicao_trabalho', 'atividade', 'ocupacao', 'tipo_familia',\n",
       "       'situacao_censitaria', 'anos_de_estudo', 'componentes_domicilio',\n",
       "       'rendimento_mensal', 'nivel_de_instrucao', 'atividade_agricola',\n",
       "       'inss'],\n",
       "      dtype='object')"
      ]
     },
     "execution_count": 28,
     "metadata": {},
     "output_type": "execute_result"
    }
   ],
   "source": [
    "base.columns"
   ]
  },
  {
   "cell_type": "code",
   "execution_count": 31,
   "metadata": {},
   "outputs": [
    {
     "data": {
      "text/plain": [
       "NaN                128768\n",
       "10 a 14 anos        60594\n",
       "15 a 17 anos        52651\n",
       "18 a 19 anos        31152\n",
       "Ate 9 anos          16235\n",
       "20 a 24 anos        14987\n",
       "25 a 29 anos         2816\n",
       "30 anos ou mais      1396\n",
       "Name: idade_inicio_trabalho, dtype: int64"
      ]
     },
     "execution_count": 31,
     "metadata": {},
     "output_type": "execute_result"
    }
   ],
   "source": [
    "base['idade_inicio_trabalho'].value_counts(dropna=False)"
   ]
  },
  {
   "cell_type": "code",
   "execution_count": 34,
   "metadata": {},
   "outputs": [
    {
     "data": {
      "text/plain": [
       "0          (20.0, 26.0]\n",
       "1          (20.0, 26.0]\n",
       "2          (31.0, 37.0]\n",
       "3          (31.0, 37.0]\n",
       "4         (9.999, 15.0]\n",
       "7          (15.0, 20.0]\n",
       "8          (42.0, 49.0]\n",
       "9         (65.0, 115.0]\n",
       "10        (65.0, 115.0]\n",
       "11         (42.0, 49.0]\n",
       "12         (20.0, 26.0]\n",
       "13         (26.0, 31.0]\n",
       "14         (49.0, 56.0]\n",
       "16         (31.0, 37.0]\n",
       "17         (31.0, 37.0]\n",
       "18         (15.0, 20.0]\n",
       "19        (9.999, 15.0]\n",
       "21         (56.0, 65.0]\n",
       "22         (49.0, 56.0]\n",
       "23         (15.0, 20.0]\n",
       "24         (56.0, 65.0]\n",
       "25         (49.0, 56.0]\n",
       "26         (26.0, 31.0]\n",
       "27         (20.0, 26.0]\n",
       "28         (15.0, 20.0]\n",
       "30         (49.0, 56.0]\n",
       "31         (42.0, 49.0]\n",
       "32        (9.999, 15.0]\n",
       "33         (20.0, 26.0]\n",
       "35         (42.0, 49.0]\n",
       "              ...      \n",
       "356865     (49.0, 56.0]\n",
       "356866     (49.0, 56.0]\n",
       "356867     (42.0, 49.0]\n",
       "356868     (31.0, 37.0]\n",
       "356869     (15.0, 20.0]\n",
       "356870    (9.999, 15.0]\n",
       "356871     (42.0, 49.0]\n",
       "356872     (20.0, 26.0]\n",
       "356873     (15.0, 20.0]\n",
       "356874    (9.999, 15.0]\n",
       "356875     (49.0, 56.0]\n",
       "356876     (42.0, 49.0]\n",
       "356877     (20.0, 26.0]\n",
       "356878     (20.0, 26.0]\n",
       "356879     (15.0, 20.0]\n",
       "356880     (26.0, 31.0]\n",
       "356881     (26.0, 31.0]\n",
       "356882     (26.0, 31.0]\n",
       "356885     (31.0, 37.0]\n",
       "356886     (26.0, 31.0]\n",
       "356889     (31.0, 37.0]\n",
       "356894     (56.0, 65.0]\n",
       "356895     (31.0, 37.0]\n",
       "356896     (15.0, 20.0]\n",
       "356897     (56.0, 65.0]\n",
       "356898     (31.0, 37.0]\n",
       "356899     (37.0, 42.0]\n",
       "356900     (37.0, 42.0]\n",
       "356901     (15.0, 20.0]\n",
       "356902    (9.999, 15.0]\n",
       "Name: idade, Length: 308599, dtype: category\n",
       "Categories (10, interval[float64]): [(9.999, 15.0] < (15.0, 20.0] < (20.0, 26.0] < (26.0, 31.0] ... (42.0, 49.0] < (49.0, 56.0] < (56.0, 65.0] < (65.0, 115.0]]"
      ]
     },
     "execution_count": 34,
     "metadata": {},
     "output_type": "execute_result"
    }
   ],
   "source": [
    "pd.qcut(base['idade'], 10)"
   ]
  },
  {
   "cell_type": "code",
   "execution_count": null,
   "metadata": {
    "collapsed": true
   },
   "outputs": [],
   "source": []
  }
 ],
 "metadata": {
  "kernelspec": {
   "display_name": "Python 3",
   "language": "python",
   "name": "python3"
  },
  "language_info": {
   "codemirror_mode": {
    "name": "ipython",
    "version": 3
   },
   "file_extension": ".py",
   "mimetype": "text/x-python",
   "name": "python",
   "nbconvert_exporter": "python",
   "pygments_lexer": "ipython3",
   "version": "3.6.3"
  }
 },
 "nbformat": 4,
 "nbformat_minor": 2
}
