{
 "cells": [
  {
   "cell_type": "markdown",
   "metadata": {},
   "source": [
    "## Pré-carregamento de dados\n",
    "\n",
    "Os dados originais estão em format \"Fixed Width\", o que exigirá um pré-processamento de forma a obter as informações desejadas.\n",
    "\n",
    "Para isso, nos aproveitaremos do script de input do SAS, que lista a posição inicial e o tamanho de cada uma das variáveis."
   ]
  },
  {
   "cell_type": "code",
   "execution_count": 11,
   "metadata": {
    "collapsed": true
   },
   "outputs": [],
   "source": [
    "import pandas as pd\n",
    "import re\n",
    "import unidecode\n",
    "import pickle"
   ]
  },
  {
   "cell_type": "code",
   "execution_count": 9,
   "metadata": {},
   "outputs": [],
   "source": [
    "# parseando o script de input do SAS e obtendo as informações desejadas da posição das variáveis\n",
    "\n",
    "codes_desc = {'colspecs': [], 'descs': [], 'codes': []}\n",
    "code2desc = {}\n",
    "\n",
    "with open('./aux_files/input_vars_PES2015.txt') as f:\n",
    "    for l in f:\n",
    "        c = l.rstrip().split()\n",
    "\n",
    "        #colspec\n",
    "        pos = int(c[0][1:])\n",
    "        size = int(c[2].replace('.', '').replace('$', ''))\n",
    "        codes_desc['colspecs'].append((pos - 1, pos - 1 + size))\n",
    "        \n",
    "        # names\n",
    "        desc = unidecode.unidecode('_'.join(c[3:])[2:-2]).lower().replace(',','')\n",
    "        codes_desc['descs'].append(desc)\n",
    "        \n",
    "        #codes\n",
    "        codes_desc['codes'].append(c[1])\n",
    "        \n",
    "        #\n",
    "        code2desc[c[1]] = desc\n",
    "\n",
    "codes_desc_df = pd.DataFrame(codes_desc)"
   ]
  },
  {
   "cell_type": "code",
   "execution_count": 3,
   "metadata": {},
   "outputs": [],
   "source": [
    "# lendo o arquivo em Fixed Width \n",
    "#    - V9906 e V9907 são variavéis categoricas que podem com 0, por isso forçamos o formato str\n",
    "\n",
    "data = pd.read_fwf('./dados/PES2015.txt', colspecs=codes_desc['colspecs'], names=codes_desc['codes'], dtype={'V9906': str, 'V9907': str})"
   ]
  },
  {
   "cell_type": "code",
   "execution_count": 4,
   "metadata": {},
   "outputs": [],
   "source": [
    "# salvando em csv para acesso mais fácil na sequência do projeto\n",
    "\n",
    "data.to_csv(\"./dados/pes2015_data.csv\", index=False, encoding='utf-8')"
   ]
  },
  {
   "cell_type": "code",
   "execution_count": 5,
   "metadata": {},
   "outputs": [],
   "source": [
    "# salvando uma alternativa de 25 pct aleatorio da base para manipulação mais fácil em exploração\n",
    "\n",
    "data.sample(frac=0.25).to_csv(\"./dados/pes2015_data_sample.csv\", index=False, encoding='utf-8')"
   ]
  },
  {
   "cell_type": "code",
   "execution_count": 13,
   "metadata": {
    "collapsed": true
   },
   "outputs": [],
   "source": [
    "# salvando o mapa de code -> desc\n",
    "\n",
    "pickle.dump(code2desc, open(\"./dados/code2desc.p\", \"wb\"))"
   ]
  },
  {
   "cell_type": "markdown",
   "metadata": {},
   "source": [
    "<hr>"
   ]
  }
 ],
 "metadata": {
  "kernelspec": {
   "display_name": "Python [conda root]",
   "language": "python",
   "name": "conda-root-py"
  },
  "language_info": {
   "codemirror_mode": {
    "name": "ipython",
    "version": 3
   },
   "file_extension": ".py",
   "mimetype": "text/x-python",
   "name": "python",
   "nbconvert_exporter": "python",
   "pygments_lexer": "ipython3",
   "version": "3.6.3"
  }
 },
 "nbformat": 4,
 "nbformat_minor": 2
}
